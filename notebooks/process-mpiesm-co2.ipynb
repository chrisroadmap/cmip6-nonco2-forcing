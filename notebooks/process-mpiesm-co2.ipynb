{
 "cells": [
  {
   "cell_type": "markdown",
   "id": "0",
   "metadata": {},
   "source": [
    "# Process MPI-ESM E-driven data - CO2\n",
    "\n",
    "We want to create annual global mean data from each variable. For CO2 we also want to calculate the annual global mean mass mixing ratio."
   ]
  },
  {
   "cell_type": "code",
   "execution_count": null,
   "id": "1",
   "metadata": {},
   "outputs": [],
   "source": [
    "import os\n",
    "from dotenv import load_dotenv\n",
    "import iris\n",
    "from iris.util import equalise_attributes\n",
    "import iris.coord_categorisation as cat\n",
    "import glob\n",
    "import matplotlib.pyplot as pl\n",
    "import warnings\n",
    "import pandas as pd\n",
    "import numpy as np"
   ]
  },
  {
   "cell_type": "code",
   "execution_count": null,
   "id": "2",
   "metadata": {},
   "outputs": [],
   "source": [
    "load_dotenv(override=True)"
   ]
  },
  {
   "cell_type": "code",
   "execution_count": null,
   "id": "3",
   "metadata": {},
   "outputs": [],
   "source": [
    "datadir = os.getenv(\"DATADIR\")\n",
    "datadir"
   ]
  },
  {
   "cell_type": "code",
   "execution_count": null,
   "id": "4",
   "metadata": {},
   "outputs": [],
   "source": [
    "variables = ['co23D']\n",
    "experiments = ['esm-ssp119', 'esm-ssp126', 'esm-ssp245', 'esm-ssp370']\n",
    "ensemble_members = {\n",
    "    'esm-ssp119': 10,\n",
    "    'esm-ssp126': 10,\n",
    "    'esm-ssp245': 30,\n",
    "    'esm-ssp370': 10,\n",
    "}"
   ]
  },
  {
   "cell_type": "code",
   "execution_count": null,
   "id": "5",
   "metadata": {},
   "outputs": [],
   "source": [
    "# hege does model / scenario then puts all variables and runs in the same folder"
   ]
  },
  {
   "cell_type": "code",
   "execution_count": null,
   "id": "6",
   "metadata": {},
   "outputs": [],
   "source": [
    "# then we want to calculate what the pressure bounds are from ps\n",
    "# formula = \"p = ap + b*ps\""
   ]
  },
  {
   "cell_type": "code",
   "execution_count": null,
   "id": "7",
   "metadata": {},
   "outputs": [],
   "source": [
    "output = {}\n",
    "with warnings.catch_warnings():\n",
    "    warnings.simplefilter(\"ignore\")\n",
    "    for experiment in experiments:\n",
    "        output[experiment] = {}\n",
    "        for iens in range(ensemble_members[experiment]):\n",
    "            runid = f'r{iens+1}i1p1f1'\n",
    "            tempoutput = {}\n",
    "            for variable in variables:\n",
    "                source_files = (glob.glob(os.path.join(datadir, \"MPI-ESM1-2-LR\", experiment, variable, f\"*{runid}*\")))\n",
    "                cubes_co23d = iris.load(source_files, \"mass_fraction_of_carbon_dioxide_tracer_in_air\")\n",
    "                cubes_ps = iris.load(source_files, \"Surface Air Pressure\")\n",
    "                cube_p = iris.load(source_files, \"vertical coordinate formula term: ap(k+1/2)\")[0]\n",
    "                hybrid_bounds = cube_p.coord('atmosphere_hybrid_sigma_pressure_coordinate').bounds\n",
    "                equalise_attributes(cubes_co23d);\n",
    "                equalise_attributes(cubes_ps);\n",
    "                cube_co23d = cubes_co23d.concatenate_cube()\n",
    "                cube_ps = cubes_ps.concatenate_cube()\n",
    "                area_weights = iris.analysis.cartography.area_weights(cube_ps)\n",
    "                mass_atmos = (cube_ps * area_weights).data.sum() / 9.80665 / 3420\n",
    "                hybrid_thickness = -np.diff(hybrid_bounds, axis=1).squeeze()  # proportion of atmospheric mass in each layer; a rescaling of ps\n",
    "                time_weights = cube_ps.coord(\"time\").bounds[:, 1] - cube_ps.coord(\"time\").bounds[:, 0]\n",
    "                co2_mmr = np.ones((cube_ps.shape[0]//12)) * np.nan\n",
    "                for iyear in range(cube_ps.shape[0]//12):\n",
    "                    mass_atm4d_year = cube_ps.data[12*iyear:12*iyear+12, None, :, :] * hybrid_thickness[None, :, None, None] * area_weights[12*iyear:12*iyear+12, None, :, :]\n",
    "                    mass_co24d_year = cube_co23d.data[12*iyear:12*iyear+12, ...] * mass_atm4d_year\n",
    "                    co2_mmr[iyear] = np.average(np.sum(mass_co24d_year, axis=(1,2,3))/np.sum(mass_atm4d_year, axis=(1,2,3)), weights = time_weights[12*iyear:12*iyear+12])\n",
    "                co2_vmr = 28.97 / 44.009 * co2_mmr * 1e6\n",
    "                cat.add_year(cube_ps, 'time', name='year')\n",
    "                cube_gm = cube_ps.collapsed(['latitude', 'longitude'], iris.analysis.MEAN, weights=area_weights)\n",
    "                cube_agm = cube_gm.aggregated_by('year', iris.analysis.MEAN)\n",
    "                tempoutput[variable] = co2_vmr\n",
    "            output[experiment][runid] = pd.DataFrame(co2_vmr, index=cube_agm.coord('year').points, columns=['co2'])\n",
    "            os.makedirs(os.path.join('..', 'output', 'processed', 'MPI-ESM1-2-LR', experiment, 'co2_vmr'), exist_ok=True)\n",
    "            output[experiment][runid].to_csv(os.path.join('..', 'output', 'processed', 'MPI-ESM1-2-LR', experiment, 'co2_vmr', f'{runid}.csv'))"
   ]
  },
  {
   "cell_type": "code",
   "execution_count": null,
   "id": "8",
   "metadata": {},
   "outputs": [],
   "source": []
  }
 ],
 "metadata": {
  "kernelspec": {
   "display_name": ".conda-cmip6-nonco2-forcing Python (Conda)",
   "language": "python",
   "name": "conda-env-.conda-cmip6-nonco2-forcing-py"
  },
  "language_info": {
   "codemirror_mode": {
    "name": "ipython",
    "version": 3
   },
   "file_extension": ".py",
   "mimetype": "text/x-python",
   "name": "python",
   "nbconvert_exporter": "python",
   "pygments_lexer": "ipython3",
   "version": "3.12.4"
  }
 },
 "nbformat": 4,
 "nbformat_minor": 5
}
