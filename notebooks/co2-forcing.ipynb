{
 "cells": [
  {
   "cell_type": "markdown",
   "id": "0",
   "metadata": {},
   "source": [
    "# Calculate CO2 forcing in each model"
   ]
  },
  {
   "cell_type": "code",
   "execution_count": null,
   "id": "1",
   "metadata": {},
   "outputs": [],
   "source": [
    "import os\n",
    "import glob\n",
    "import matplotlib.pyplot as pl\n",
    "import numpy as np\n",
    "import pandas as pd\n",
    "\n",
    "from scipy.stats import linregress\n",
    "from scipy.optimize import curve_fit"
   ]
  },
  {
   "cell_type": "markdown",
   "id": "2",
   "metadata": {},
   "source": [
    "## CO2 ERF as a function of concentration\n",
    "\n",
    "- We want to determine what the CO2 ERF is for an arbritrary CO2 concentration\n",
    "- could use the 1pctCO2 run to plot ERF as a function of concentration which opens up to more models\n",
    "- in fact let's do that, and fit Etminan parameters to each"
   ]
  },
  {
   "cell_type": "code",
   "execution_count": null,
   "id": "3",
   "metadata": {},
   "outputs": [],
   "source": [
    "co2_conc_1pct = 1.01 ** np.arange(181) * 284.316999854786   # Meinshausen uses exactly this def, see supplementary XLS files to Meinshausen et al. 2017"
   ]
  },
  {
   "cell_type": "code",
   "execution_count": null,
   "id": "4",
   "metadata": {},
   "outputs": [],
   "source": [
    "def etminan(x, a, b, c):\n",
    "    return (a * (x - x[0])**2 + b * (x - x[0]) + c) * np.log(x / x[0])"
   ]
  },
  {
   "cell_type": "code",
   "execution_count": null,
   "id": "5",
   "metadata": {},
   "outputs": [],
   "source": [
    "co2_1pct_erf = {}\n",
    "regress = {}\n",
    "etminan_fit = {}\n",
    "model_paths = glob.glob('../data/transient_forcing_estimates/*/')\n",
    "for model_path in model_paths:\n",
    "    model = model_path.split('/')[-2]\n",
    "    model_run_paths = glob.glob(model_path + '1pctCO2/*.csv')\n",
    "    n_runs = len(model_run_paths)\n",
    "    for i_run, model_run_path in enumerate(model_run_paths):\n",
    "        this_erf = pd.read_csv(model_run_path)['ERF'].values\n",
    "        if i_run==0:\n",
    "            erf = np.zeros_like(this_erf)\n",
    "        truncate_at = min(len(this_erf), len(erf))\n",
    "        erf = erf[:truncate_at] + this_erf[:truncate_at]\n",
    "    co2_1pct_erf[model] = erf / n_runs\n",
    "    regress[model] = linregress(np.log(co2_conc_1pct[:len(co2_1pct_erf[model])]), co2_1pct_erf[model])\n",
    "    etminan_fit[model] = curve_fit(\n",
    "        etminan, \n",
    "        co2_conc_1pct[:len(co2_1pct_erf[model])], \n",
    "        co2_1pct_erf[model], \n",
    "        p0=[-2.4e-7, 7.2e-4, 5.43],\n",
    "#        bounds=((-np.inf, 0, -np.inf), (0, np.inf, np.inf))\n",
    "    )\n",
    "    #print(regress[model].slope*log_conc_co2_1pct[0] + regress[model].intercept)"
   ]
  },
  {
   "cell_type": "markdown",
   "id": "6",
   "metadata": {},
   "source": [
    "## Check linearity of 1pctCO2 forcing in each model"
   ]
  },
  {
   "cell_type": "code",
   "execution_count": null,
   "id": "7",
   "metadata": {},
   "outputs": [],
   "source": [
    "fig, ax = pl.subplots(6, 9, figsize=(16, 9))\n",
    "for i_model, model in enumerate(co2_1pct_erf):\n",
    "    ax_i = i_model//9\n",
    "    ax_j = i_model%9\n",
    "    ax[ax_i,ax_j].scatter(np.log(co2_conc_1pct[:len(co2_1pct_erf[model])]), co2_1pct_erf[model])\n",
    "    ax[ax_i,ax_j].plot(\n",
    "        np.log(co2_conc_1pct[:len(co2_1pct_erf[model])]), \n",
    "        np.log(co2_conc_1pct[:len(co2_1pct_erf[model])])*regress[model].slope + regress[model].intercept,\n",
    "        color='k'\n",
    "    )"
   ]
  },
  {
   "cell_type": "markdown",
   "id": "8",
   "metadata": {},
   "source": [
    "## Etminan relationships in each model"
   ]
  },
  {
   "cell_type": "code",
   "execution_count": null,
   "id": "9",
   "metadata": {},
   "outputs": [],
   "source": [
    "fig, ax = pl.subplots(6, 9, figsize=(16, 9))\n",
    "for i_model, model in enumerate(co2_1pct_erf):\n",
    "    ax_i = i_model//9\n",
    "    ax_j = i_model%9\n",
    "    ax[ax_i,ax_j].scatter(co2_conc_1pct[:len(co2_1pct_erf[model])], co2_1pct_erf[model])\n",
    "    ax[ax_i,ax_j].plot(\n",
    "        co2_conc_1pct[:len(co2_1pct_erf[model])],\n",
    "        etminan(co2_conc_1pct[:len(co2_1pct_erf[model])], etminan_fit[model][0][0], etminan_fit[model][0][1], etminan_fit[model][0][2]),\n",
    "        color='k'\n",
    "    )"
   ]
  },
  {
   "cell_type": "code",
   "execution_count": null,
   "id": "10",
   "metadata": {},
   "outputs": [],
   "source": [
    "rows = []\n",
    "for model in co2_1pct_erf:\n",
    "    rows.append([model, etminan_fit[model][0][0], etminan_fit[model][0][1], etminan_fit[model][0][2]])\n",
    "df_out = pd.DataFrame(rows, columns=['model', 'a1', 'b1', 'd1'])\n",
    "df_out.set_index('model')\n",
    "\n",
    "os.makedirs('../output', exist_ok=True)\n",
    "df_out.to_csv('../output/etminan_forcing_params.csv', index=False)"
   ]
  },
  {
   "cell_type": "code",
   "execution_count": null,
   "id": "11",
   "metadata": {},
   "outputs": [],
   "source": []
  }
 ],
 "metadata": {
  "kernelspec": {
   "display_name": "Python 3 (ipykernel)",
   "language": "python",
   "name": "python3"
  },
  "language_info": {
   "codemirror_mode": {
    "name": "ipython",
    "version": 3
   },
   "file_extension": ".py",
   "mimetype": "text/x-python",
   "name": "python",
   "nbconvert_exporter": "python",
   "pygments_lexer": "ipython3",
   "version": "3.12.4"
  }
 },
 "nbformat": 4,
 "nbformat_minor": 5
}
