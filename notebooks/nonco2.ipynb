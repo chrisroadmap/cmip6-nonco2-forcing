{
 "cells": [
  {
   "cell_type": "code",
   "execution_count": null,
   "id": "0",
   "metadata": {},
   "outputs": [],
   "source": [
    "import glob\n",
    "import matplotlib.pyplot as pl\n",
    "import numpy as np\n",
    "import pandas as pd"
   ]
  },
  {
   "cell_type": "markdown",
   "id": "1",
   "metadata": {},
   "source": [
    "## CO2 ERF as a function of concentration\n",
    "\n",
    "- We want to determine what the CO2 ERF is for an arbritrary CO2 concentration, given the model's 4xCO2 ERF from Smith et al.\n",
    "- alternatively could use the 1pctCO2 run to plot ERF as a function of concentration which opens up to more models\n",
    "- in fact let's do that"
   ]
  },
  {
   "cell_type": "code",
   "execution_count": null,
   "id": "2",
   "metadata": {},
   "outputs": [],
   "source": [
    "co2_conc_1pct = 1.01 ** np.arange(181) * 284.316999854786   # Meinshausen uses exactly this def, see supplementary XLS files to Meinshausen et al. 2017"
   ]
  },
  {
   "cell_type": "code",
   "execution_count": null,
   "id": "3",
   "metadata": {},
   "outputs": [],
   "source": [
    "np.log(4 * 284.316999854786 / 284.316999854786) / np.log(4)"
   ]
  },
  {
   "cell_type": "code",
   "execution_count": null,
   "id": "4",
   "metadata": {},
   "outputs": [],
   "source": [
    "co2_1pct_erf = {}\n",
    "model_paths = glob.glob('../data/transient_forcing_estimates/*/')\n",
    "for model_path in model_paths:\n",
    "    model = model_path.split('/')[-2]\n",
    "    model_run_paths = glob.glob(model_path + '1pctCO2/*.csv')\n",
    "    n_runs = len(model_run_paths)\n",
    "    for i_run, model_run_path in enumerate(model_run_paths):\n",
    "        this_erf = pd.read_csv(model_run_path)['ERF'].values\n",
    "        if i_run==0:\n",
    "            erf = np.zeros_like(this_erf)\n",
    "        truncate_at = min(len(this_erf), len(erf))\n",
    "        erf = erf[:truncate_at] + this_erf[:truncate_at]\n",
    "    co2_1pct_erf[model] = erf / n_runs"
   ]
  },
  {
   "cell_type": "markdown",
   "id": "5",
   "metadata": {},
   "source": [
    "## Check linearity of 1pctCO2 forcing in each model"
   ]
  },
  {
   "cell_type": "code",
   "execution_count": null,
   "id": "6",
   "metadata": {},
   "outputs": [],
   "source": [
    "fig, ax = pl.subplots(6, 9, figsize=(16, 9))\n",
    "for i_model, model in enumerate(co2_1pct_erf):\n",
    "    ax_i = i_model//9\n",
    "    ax_j = i_model%9\n",
    "    ax[ax_i,ax_j].scatter(np.log(co2_conc_1pct[:len(co2_1pct_erf[model])]), co2_1pct_erf[model])"
   ]
  },
  {
   "cell_type": "code",
   "execution_count": null,
   "id": "7",
   "metadata": {},
   "outputs": [],
   "source": [
    "len(co2_1pct_erf)"
   ]
  }
 ],
 "metadata": {
  "kernelspec": {
   "display_name": ".conda-cmip6-nonco2-forcing Python (Conda)",
   "language": "python",
   "name": "conda-env-.conda-cmip6-nonco2-forcing-py"
  },
  "language_info": {
   "codemirror_mode": {
    "name": "ipython",
    "version": 3
   },
   "file_extension": ".py",
   "mimetype": "text/x-python",
   "name": "python",
   "nbconvert_exporter": "python",
   "pygments_lexer": "ipython3",
   "version": "3.12.4"
  }
 },
 "nbformat": 4,
 "nbformat_minor": 5
}
