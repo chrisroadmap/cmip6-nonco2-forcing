{
 "cells": [
  {
   "cell_type": "markdown",
   "id": "0",
   "metadata": {},
   "source": [
    "# Process MPI-ESM E-driven data - except CO2\n",
    "\n",
    "We want to create annual global mean data from each variable. For CO2 we also want to calculate the annual global mean mass mixing ratio."
   ]
  },
  {
   "cell_type": "code",
   "execution_count": null,
   "id": "1",
   "metadata": {},
   "outputs": [],
   "source": [
    "import os\n",
    "from dotenv import load_dotenv\n",
    "import iris\n",
    "from iris.util import equalise_attributes\n",
    "import iris.coord_categorisation as cat\n",
    "import glob\n",
    "import matplotlib.pyplot as pl\n",
    "import warnings\n",
    "import pandas as pd"
   ]
  },
  {
   "cell_type": "code",
   "execution_count": null,
   "id": "2",
   "metadata": {},
   "outputs": [],
   "source": [
    "load_dotenv(override=True)"
   ]
  },
  {
   "cell_type": "code",
   "execution_count": null,
   "id": "3",
   "metadata": {},
   "outputs": [],
   "source": [
    "datadir = os.getenv(\"DATADIR\")\n",
    "datadir"
   ]
  },
  {
   "cell_type": "code",
   "execution_count": null,
   "id": "4",
   "metadata": {},
   "outputs": [],
   "source": [
    "variables = ['tas', 'rsdt', 'rsut', 'rlut']\n",
    "experiments = ['esm-ssp119', 'esm-ssp126', 'esm-ssp245', 'esm-ssp370', 'esm-ssp534-over']\n",
    "ensemble_members = {\n",
    "    'esm-ssp119': 10,\n",
    "    'esm-ssp126': 10,\n",
    "    'esm-ssp245': 30,\n",
    "    'esm-ssp370': 10,\n",
    "    'esm-ssp534-over': 10,\n",
    "}"
   ]
  },
  {
   "cell_type": "code",
   "execution_count": null,
   "id": "5",
   "metadata": {},
   "outputs": [],
   "source": [
    "# hege does model / scenario then puts all variables and runs in the same folder"
   ]
  },
  {
   "cell_type": "code",
   "execution_count": null,
   "id": "6",
   "metadata": {},
   "outputs": [],
   "source": [
    "output = {}\n",
    "with warnings.catch_warnings():\n",
    "    warnings.simplefilter(\"ignore\")\n",
    "    for experiment in experiments:\n",
    "        output[experiment] = {}\n",
    "        for iens in range(ensemble_members[experiment]):\n",
    "            runid = f'r{iens+1}i1p1f1'\n",
    "            tempoutput = {}\n",
    "            for variable in variables:\n",
    "                source_files = (glob.glob(os.path.join(datadir, \"MPI-ESM1-2-LR\", experiment, variable, f\"*{runid}*\")))\n",
    "                cubes = iris.load(source_files)\n",
    "                equalise_attributes(cubes);\n",
    "                cube = cubes.concatenate_cube()\n",
    "                area_weights = iris.analysis.cartography.area_weights(cube)\n",
    "                cat.add_year(cube, 'time', name='year')\n",
    "                cube_gm = cube.collapsed(['latitude', 'longitude'], iris.analysis.MEAN, weights=area_weights)\n",
    "                cube_agm = cube_gm.aggregated_by('year', iris.analysis.MEAN)\n",
    "                tempoutput[variable] = cube_agm.data\n",
    "            output[experiment][runid] = pd.DataFrame(tempoutput, index=cube_agm.coord('year').points)\n",
    "            os.makedirs(os.path.join('..', 'output', 'processed', 'MPI-ESM1-2-LR', experiment, 'climate'), exist_ok=True)\n",
    "            output[experiment][runid].to_csv(os.path.join('..', 'output', 'processed', 'MPI-ESM1-2-LR', experiment, 'climate', f'{runid}.csv'))"
   ]
  },
  {
   "cell_type": "code",
   "execution_count": null,
   "id": "7",
   "metadata": {},
   "outputs": [],
   "source": []
  }
 ],
 "metadata": {
  "kernelspec": {
   "display_name": ".conda-cmip6-nonco2-forcing Python (Conda)",
   "language": "python",
   "name": "conda-env-.conda-cmip6-nonco2-forcing-py"
  },
  "language_info": {
   "codemirror_mode": {
    "name": "ipython",
    "version": 3
   },
   "file_extension": ".py",
   "mimetype": "text/x-python",
   "name": "python",
   "nbconvert_exporter": "python",
   "pygments_lexer": "ipython3",
   "version": "3.12.4"
  }
 },
 "nbformat": 4,
 "nbformat_minor": 5
}
