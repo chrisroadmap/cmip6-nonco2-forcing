{
 "cells": [
  {
   "cell_type": "markdown",
   "id": "0",
   "metadata": {},
   "source": [
    "# Calculate non-CO2 forcing in the MPI-ESM CO2-driven runs"
   ]
  },
  {
   "cell_type": "code",
   "execution_count": null,
   "id": "1",
   "metadata": {},
   "outputs": [],
   "source": [
    "import os\n",
    "import numpy as np\n",
    "import pandas as pd\n",
    "import matplotlib.pyplot as pl"
   ]
  },
  {
   "cell_type": "code",
   "execution_count": null,
   "id": "2",
   "metadata": {},
   "outputs": [],
   "source": [
    "df_etminan = pd.read_csv('../output/etminan_forcing_params.csv', index_col=0)"
   ]
  },
  {
   "cell_type": "code",
   "execution_count": null,
   "id": "3",
   "metadata": {},
   "outputs": [],
   "source": [
    "df_etminan.loc['MPI-ESM1-2-LR']"
   ]
  },
  {
   "cell_type": "code",
   "execution_count": null,
   "id": "4",
   "metadata": {},
   "outputs": [],
   "source": [
    "def etminan(x, x0, a, b, d):\n",
    "    return (a * (x - x0)**2 + b * (x - x0) + d) * np.log(x / x0)"
   ]
  },
  {
   "cell_type": "code",
   "execution_count": null,
   "id": "5",
   "metadata": {},
   "outputs": [],
   "source": [
    "df_co2_conc_ssp = pd.read_csv('../data/ssp_co2_concentration.csv', index_col=0)\n",
    "co2_1850 = df_co2_conc_ssp.loc[1850, 'ssp119']"
   ]
  },
  {
   "cell_type": "code",
   "execution_count": null,
   "id": "6",
   "metadata": {},
   "outputs": [],
   "source": [
    "colors = {\n",
    "    'esm-hist': '#000000',\n",
    "    'esm-ssp119': '#00a9cf',\n",
    "    'esm-ssp126': '#003466',\n",
    "    'esm-ssp245': '#f69320',\n",
    "    'esm-ssp370': '#df0000',\n",
    "    'esm-ssp534-over': '#92397a',\n",
    "    'esm-ssp585': '#980002'\n",
    "}"
   ]
  },
  {
   "cell_type": "code",
   "execution_count": null,
   "id": "7",
   "metadata": {},
   "outputs": [],
   "source": [
    "for scenario in ['esm-hist', 'esm-ssp119', 'esm-ssp126', 'esm-ssp245', 'esm-ssp370', 'esm-ssp534-over', 'esm-ssp585']:\n",
    "# for scenario in ['esm-hist', 'esm-ssp119', 'esm-ssp126', 'esm-ssp245', 'esm-ssp370', 'esm-ssp534-over', 'esm-ssp585']:\n",
    "    # anomalies only processed for 10 runs\n",
    "    for run in range(1, 11):\n",
    "        df_co2 = pd.read_csv(f'../output/processed/MPI-ESM1-2-LR//{scenario}/co2_vmr/r{run}i1p1f1.csv', index_col=0)\n",
    "        f_co2 = etminan(df_co2, co2_1850, *df_etminan.loc['MPI-ESM1-2-LR'].values)\n",
    "        pl.plot(f_co2, color=colors[scenario])\n",
    "pl.title('CO2 effective radiative forcing')\n",
    "pl.ylabel('W/m2')"
   ]
  },
  {
   "cell_type": "markdown",
   "id": "8",
   "metadata": {},
   "source": [
    "### Then, use Hege's method to make the forcing estimate"
   ]
  },
  {
   "cell_type": "code",
   "execution_count": null,
   "id": "9",
   "metadata": {},
   "outputs": [],
   "source": [
    "def load_anom(model, exp, member, length_restriction = None, path='../data/processed_data', my_ssp=False):\n",
    "    if my_ssp:\n",
    "        filename = f'{member}.csv'\n",
    "    else:\n",
    "        filename = model + '_' + exp + '_' + member + '_anomalies.csv'\n",
    "    file = f'{path}/{model}/{exp}/anomalies/{filename}'\n",
    "    data = pd.read_csv(file, index_col=0)\n",
    "    if length_restriction != None:\n",
    "        data = data[:length_restriction]\n",
    "    return data"
   ]
  },
  {
   "cell_type": "code",
   "execution_count": null,
   "id": "10",
   "metadata": {},
   "outputs": [],
   "source": [
    "def forcing_F13(tasdata, Ndata, model, years = None):\n",
    "    parameter_table = pd.read_csv('../data/best_estimated_parameters_allmembers4xCO2.csv', index_col=0)\n",
    "    if years == None:\n",
    "        GregoryT2x = parameter_table.loc[model,'GregoryT2x']\n",
    "        GregoryF2x = parameter_table.loc[model,'GregoryF2x']\n",
    "    if years == '1-20':\n",
    "        GregoryT2x = parameter_table.loc[model,'GregoryT2x_1-20']\n",
    "        GregoryF2x = parameter_table.loc[model,'GregoryF2x_1-20']\n",
    "    fbpar = GregoryF2x/GregoryT2x\n",
    "    F = Ndata + fbpar*tasdata\n",
    "    return F"
   ]
  },
  {
   "cell_type": "code",
   "execution_count": null,
   "id": "11",
   "metadata": {},
   "outputs": [],
   "source": [
    "def tas_predictors(t, fixed_par, exptype = 'stepforcing', timevaryingforcing = []):\n",
    "    # compute components/predictors for T_n(t) = exp(-t/tau_n)*F(t) (* is a convolution)\n",
    "    # input for stepforcing: years, fixed parameters (timescales for stepforcing)\n",
    "    # stepforcing_ computes response to unit forcing,\n",
    "    # to be multiplied by the actual forcing afterwards\n",
    "    \n",
    "    # timevaryingforcing: need a forcing time series input\n",
    "    if exptype == 'stepforcing':\n",
    "        timescales = fixed_par; dim = len(timescales)\n",
    "        predictors = np.zeros((len(t),dim))\n",
    "        for i in range(0,dim): \n",
    "            predictors[:,i] = (1 - np.exp((-t)/timescales[i]))\n",
    "    elif exptype == 'timevaryingforcing': # need forcing input\n",
    "        # compute components T_n(t) = exp(-t/tau_n)*F(t) (Here * is a convolution)\n",
    "        timescales = fixed_par\n",
    "        lf = len(timevaryingforcing); dim = len(timescales)\n",
    "        predictors = np.full((lf,dim),np.nan)   \n",
    "\n",
    "        # compute exact predictors by integrating greens function\n",
    "        for k in range(0,dim):\n",
    "            # dot after 0 to create floating point numbers:\n",
    "            intgreensti = np.full((lf,lf),0.)   \n",
    "            for t in range(0,lf):\n",
    "                # compute one new contribution to the matrix:\n",
    "                intgreensti[t,0] = timescales[k]*(np.exp(-t/timescales[k]) - np.exp(-(t+1)/timescales[k]))\n",
    "                # take the rest from row above:\n",
    "                if t > 0:\n",
    "                    intgreensti[t,1:(t+1)] = intgreensti[t-1,0:t]\n",
    "            # compute discretized convolution integral by this matrix product:\n",
    "            predictors[:,k] = intgreensti@np.array(timevaryingforcing)\n",
    "    else:\n",
    "        print('unknown exptype')\n",
    "    return predictors"
   ]
  },
  {
   "cell_type": "code",
   "execution_count": null,
   "id": "12",
   "metadata": {},
   "outputs": [],
   "source": [
    "model_names = ['MPI-ESM1-2-LR']"
   ]
  },
  {
   "cell_type": "code",
   "execution_count": null,
   "id": "13",
   "metadata": {},
   "outputs": [],
   "source": [
    "ensemble_members = {\n",
    "    'esm-hist': 10,\n",
    "    'esm-ssp119': 10,\n",
    "    'esm-ssp126': 10,\n",
    "    'esm-ssp245': 10,\n",
    "    'esm-ssp370': 10,\n",
    "    'esm-ssp534-over': 10,\n",
    "    'esm-ssp585': 10,\n",
    "}"
   ]
  },
  {
   "cell_type": "code",
   "execution_count": null,
   "id": "14",
   "metadata": {},
   "outputs": [],
   "source": [
    "exp = 'esm-hist'"
   ]
  },
  {
   "cell_type": "code",
   "execution_count": null,
   "id": "15",
   "metadata": {},
   "outputs": [],
   "source": [
    "it = 20  # number of iterations\n",
    "\n",
    "for model in model_names:\n",
    "    members = [f'r{run}i1p1f1' for run in range(1, ensemble_members[exp]+1)]\n",
    "    branch_time_file = f'../data/branch_times/{model}_branch_times.csv'\n",
    "    table = pd.read_table(branch_time_file,index_col=0, sep = ',')\n",
    "    exptable = table.loc[table['exp'] == exp]\n",
    "    \n",
    "    # load parameters needed to make new forcing estimate:\n",
    "    filename = '../data/best_estimated_parameters_allmembers4xCO2.csv'\n",
    "    parameter_table = pd.read_csv(filename, index_col=0)\n",
    "    taulist = np.array(parameter_table.loc[model,'tau1':'tau3'])\n",
    "    a_n = np.array(parameter_table.loc[model,'a_1':'a_4'])\n",
    "    b_n = np.array(parameter_table.loc[model,'b_1':'b_4'])\n",
    "    F2x = parameter_table.loc[model,'F2x']\n",
    "    T2x = parameter_table.loc[model,'T2x']\n",
    "    dim = len(taulist)\n",
    "    if any(a_n == 0):\n",
    "        dim = np.count_nonzero(a_n[:dim])\n",
    "        zeroindex = np.where(a_n == 0)[0]\n",
    "        a_n = np.delete(a_n,zeroindex)\n",
    "        b_n = np.delete(b_n,zeroindex)\n",
    "        taulist = np.delete(taulist,zeroindex)\n",
    "    fbparlist = (b_n/a_n)[:dim]\n",
    "    amplitudes = a_n[:dim]/(2*F2x*taulist)\n",
    "    \n",
    "    for member in members:\n",
    "        member_df = exptable.loc[exptable['member'] == member]\n",
    "        data = load_anom(model, exp, member)\n",
    "        if data.empty:\n",
    "            print('Empty dataframe for', model, exp, member)\n",
    "            continue\n",
    "        years = data.index\n",
    "        N = data['rsdt'] - data['rsut'] - data['rlut']\n",
    "        F = forcing_F13(data['tas'], N, model)\n",
    "        t = np.arange(0,len(F))\n",
    "        \n",
    "        # Compute new estimate of forcing\n",
    "        Fiarray = np.full((len(F),it),np.nan)\n",
    "        Tiarray = np.full((len(F),it),np.nan)\n",
    "\n",
    "        Fi = F\n",
    "        for i in range(0,it):\n",
    "            tas_pred = tas_predictors(t, taulist, exptype = 'timevaryingforcing', timevaryingforcing = Fi)\n",
    "            Tni = amplitudes*tas_pred\n",
    "            Fi = N + Tni@fbparlist\n",
    "            Fiarray[:,i] = Fi; Tiarray[:,i] = np.sum(Tni,axis=1)\n",
    "            \n",
    "        index = pd.Index(years, name='Year')\n",
    "        df_F = pd.DataFrame(Fiarray[:,-1], index=index, columns=['ERF'])\n",
    "        \n",
    "        os.makedirs(f'../output/processed/{model}/{exp}/erf/', exist_ok=True)\n",
    "        df_F.to_csv(f'../output/processed/{model}/{exp}/erf/{member}.csv')"
   ]
  },
  {
   "cell_type": "code",
   "execution_count": null,
   "id": "16",
   "metadata": {},
   "outputs": [],
   "source": [
    "for model in model_names:\n",
    "    for exp in ['esm-ssp119', 'esm-ssp126', 'esm-ssp245', 'esm-ssp370', 'esm-ssp534-over', 'esm-ssp585']:\n",
    "        members = [f'r{run}i1p1f1' for run in range(1, ensemble_members[exp]+1)]\n",
    "        branch_time_file = f'../data/branch_times/{model}_branch_times.csv'\n",
    "        table = pd.read_table(branch_time_file,index_col=0, sep = ',')\n",
    "        exptable = table.loc[table['exp'] == exp]\n",
    "\n",
    "        # load parameters needed to make new forcing estimate:\n",
    "        filename = '../data/best_estimated_parameters_allmembers4xCO2.csv'\n",
    "        parameter_table = pd.read_csv(filename, index_col=0)\n",
    "        taulist = np.array(parameter_table.loc[model,'tau1':'tau3'])\n",
    "        a_n = np.array(parameter_table.loc[model,'a_1':'a_4'])\n",
    "        b_n = np.array(parameter_table.loc[model,'b_1':'b_4'])\n",
    "        F2x = parameter_table.loc[model,'F2x']\n",
    "        T2x = parameter_table.loc[model,'T2x']\n",
    "        dim = len(taulist)\n",
    "        if any(a_n == 0):\n",
    "            dim = np.count_nonzero(a_n[:dim])\n",
    "            zeroindex = np.where(a_n == 0)[0]\n",
    "            a_n = np.delete(a_n,zeroindex)\n",
    "            b_n = np.delete(b_n,zeroindex)\n",
    "            taulist = np.delete(taulist,zeroindex)\n",
    "        fbparlist = (b_n/a_n)[:dim]\n",
    "        amplitudes = a_n[:dim]/(2*F2x*taulist)\n",
    "\n",
    "        for member in members:\n",
    "            member_df = exptable.loc[exptable['member'] == member]\n",
    "            if exp=='esm-ssp585':\n",
    "                data = load_anom(model, exp, member, my_ssp=False)\n",
    "            else:\n",
    "                data = load_anom(model, exp, member, path=f'../output/processed/', my_ssp=True)\n",
    "            if data.empty:\n",
    "                print('Empty dataframe for', model, exp, member)\n",
    "                continue\n",
    "            # load historical data also and concatenate\n",
    "            parent_member = member_df['parent_variant_id'].values[0]\n",
    "            historical_data = load_anom(model, 'esm-hist', parent_member)\n",
    "            data = pd.concat([historical_data, data])\n",
    "            years = data.index\n",
    "            N = data['rsdt'] - data['rsut'] - data['rlut']\n",
    "            F = forcing_F13(data['tas'], N, model)\n",
    "            t = np.arange(0,len(F))\n",
    "\n",
    "            # Compute new estimate of forcing\n",
    "            Fiarray = np.full((len(F),it),np.nan)\n",
    "            Tiarray = np.full((len(F),it),np.nan)\n",
    "\n",
    "            Fi = F\n",
    "            for i in range(0,it):\n",
    "                tas_pred = tas_predictors(t, taulist, exptype = 'timevaryingforcing', timevaryingforcing = Fi)\n",
    "                Tni = amplitudes*tas_pred\n",
    "                Fi = N + Tni@fbparlist\n",
    "                Fiarray[:,i] = Fi; Tiarray[:,i] = np.sum(Tni,axis=1)\n",
    "\n",
    "            index = pd.Index(years, name='Year')\n",
    "            df_F = pd.DataFrame(Fiarray[:,-1], index=index, columns=['ERF'])\n",
    "\n",
    "            os.makedirs(f'../output/processed/{model}/{exp}/erf/', exist_ok=True)\n",
    "            df_F.to_csv(f'../output/processed/{model}/{exp}/erf/{member}.csv')"
   ]
  },
  {
   "cell_type": "code",
   "execution_count": null,
   "id": "17",
   "metadata": {},
   "outputs": [],
   "source": [
    "for model in model_names:\n",
    "    for exp in ['esm-ssp119', 'esm-ssp126', 'esm-ssp245', 'esm-ssp370', 'esm-ssp534-over']:\n",
    "        members = [f'r{run}i1p1f1' for run in range(1, ensemble_members[exp]+1)]\n",
    "        for member in members:\n",
    "            df_F_hist = pd.read_csv(f'../output/processed/{model}/esm-hist/erf/{member}.csv', index_col=0)\n",
    "            df_co2_hist = pd.read_csv(f'../output/processed/{model}/esm-hist/co2_vmr/{member}.csv', index_col=0)\n",
    "            f_co2_hist = etminan(df_co2_hist, co2_1850, *df_etminan.loc['MPI-ESM1-2-LR'].values)\n",
    "            f_non_co2_hist = df_F_hist.values - f_co2_hist.values\n",
    "            df_F = pd.read_csv(f'../output/processed/{model}/{exp}/erf/{member}.csv', index_col=0)\n",
    "            df_co2 = pd.read_csv(f'../output/processed/{model}/{exp}/co2_vmr/{member}.csv', index_col=0)\n",
    "            f_co2 = etminan(df_co2, co2_1850, *df_etminan.loc['MPI-ESM1-2-LR'].values)\n",
    "            f_non_co2 = df_F.loc[2015:].values - f_co2.values\n",
    "            os.makedirs(f'../output/processed/{model}/{exp}/non-co2_erf/', exist_ok=True)\n",
    "            df_nonco2 = pd.DataFrame(np.concatenate((f_non_co2_hist, f_non_co2)), index=np.concatenate((df_F_hist.index, df_F.loc[2015:].index)), columns=['nonCO2_erf'])\n",
    "            df_nonco2.to_csv(f'../output/processed/{model}/{exp}/non-co2_erf/{member}.csv')\n",
    "            pl.plot(df_nonco2, color=colors[exp], alpha=0.1)"
   ]
  },
  {
   "cell_type": "code",
   "execution_count": null,
   "id": "18",
   "metadata": {},
   "outputs": [],
   "source": [
    "avg119 = np.zeros((450, 10))\n",
    "avg245 = np.zeros((450, 10))\n",
    "avg534 = np.zeros((450, 10))\n",
    "for im, member in enumerate(members):\n",
    "    df_nonco2 = pd.read_csv(f'../output/processed/{model}/esm-ssp119/non-co2_erf/{member}.csv')\n",
    "    avg119[:, im] = df_nonco2['nonCO2_erf'].values\n",
    "    df_nonco2 = pd.read_csv(f'../output/processed/{model}/esm-ssp245/non-co2_erf/{member}.csv')\n",
    "    avg245[:, im] = df_nonco2['nonCO2_erf'].values\n",
    "    df_nonco2 = pd.read_csv(f'../output/processed/{model}/esm-ssp534-over/non-co2_erf/{member}.csv')\n",
    "    avg534[:, im] = df_nonco2['nonCO2_erf'].values\n",
    "avg119 = np.mean(avg119, axis=1)\n",
    "avg245 = np.mean(avg245, axis=1)\n",
    "avg534 = np.mean(avg534, axis=1)"
   ]
  },
  {
   "cell_type": "code",
   "execution_count": null,
   "id": "19",
   "metadata": {},
   "outputs": [],
   "source": [
    "pl.plot(np.arange(1850, 2300), avg119, label='ssp119', color=colors['esm-ssp119'])\n",
    "pl.plot(np.arange(1850, 2300), avg245, label='ssp245', color=colors['esm-ssp245'])\n",
    "pl.plot(np.arange(1850, 2300), avg534, label='ssp534-over', color=colors['esm-ssp534-over'])\n",
    "pl.title('Non-CO2 forcing')\n",
    "pl.ylabel('W/m2')\n",
    "pl.legend()"
   ]
  }
 ],
 "metadata": {
  "kernelspec": {
   "display_name": ".conda-cmip6-nonco2-forcing Python (Conda)",
   "language": "python",
   "name": "conda-env-.conda-cmip6-nonco2-forcing-py"
  },
  "language_info": {
   "codemirror_mode": {
    "name": "ipython",
    "version": 3
   },
   "file_extension": ".py",
   "mimetype": "text/x-python",
   "name": "python",
   "nbconvert_exporter": "python",
   "pygments_lexer": "ipython3",
   "version": "3.12.4"
  }
 },
 "nbformat": 4,
 "nbformat_minor": 5
}
