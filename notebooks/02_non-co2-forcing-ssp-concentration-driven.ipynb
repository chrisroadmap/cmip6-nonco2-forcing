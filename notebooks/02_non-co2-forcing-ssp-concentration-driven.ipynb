{
 "cells": [
  {
   "cell_type": "markdown",
   "id": "0",
   "metadata": {},
   "source": [
    "# Calculate transient non-CO2 forcing in each model/scenario"
   ]
  },
  {
   "cell_type": "code",
   "execution_count": null,
   "id": "1",
   "metadata": {},
   "outputs": [],
   "source": [
    "import os\n",
    "import glob\n",
    "import matplotlib.pyplot as pl\n",
    "import numpy as np\n",
    "import pandas as pd"
   ]
  },
  {
   "cell_type": "code",
   "execution_count": null,
   "id": "2",
   "metadata": {},
   "outputs": [],
   "source": [
    "def etminan(x, x0, a, b, d):\n",
    "    return (a * (x - x0)**2 + b * (x - x0) + d) * np.log(x / x0)"
   ]
  },
  {
   "cell_type": "markdown",
   "id": "3",
   "metadata": {},
   "source": [
    "## CO2 ERF as a function of concentration in each model/scenario"
   ]
  },
  {
   "cell_type": "code",
   "execution_count": null,
   "id": "4",
   "metadata": {},
   "outputs": [],
   "source": [
    "# load up Etminan parameters and CO2 concentration\n",
    "df_etminan = pd.read_csv('../output/etminan_forcing_params.csv', index_col=0)\n",
    "df_co2_conc_ssp = pd.read_csv('../data/ssp_co2_concentration.csv', index_col=0)"
   ]
  },
  {
   "cell_type": "code",
   "execution_count": null,
   "id": "5",
   "metadata": {},
   "outputs": [],
   "source": [
    "models = list(df_etminan.index)"
   ]
  },
  {
   "cell_type": "code",
   "execution_count": null,
   "id": "6",
   "metadata": {},
   "outputs": [],
   "source": [
    "erf_co2 = {}\n",
    "scenarios = df_co2_conc_ssp.columns\n",
    "for model, params in df_etminan.iterrows():\n",
    "    erf_co2[model] = {}\n",
    "    # C_alpha_max in Meinshausen, and the log term to use\n",
    "    # print(df_co2_conc_ssp.loc[1850,scenario] - params['b1'] / (2 * params['a1']), params['d1'] - params['b1']**2/(4*params['a1']))\n",
    "    for scenario in scenarios:\n",
    "        erf_co2[model][scenario] = etminan(df_co2_conc_ssp[scenario], df_co2_conc_ssp.loc[1850,scenario], params['a1'], params['b1'], params['d1'])"
   ]
  },
  {
   "cell_type": "code",
   "execution_count": null,
   "id": "7",
   "metadata": {},
   "outputs": [],
   "source": [
    "erf_all = {}\n",
    "erf_nonco2 = {}\n",
    "for model in models:\n",
    "    erf_all[model] = {}\n",
    "    erf_nonco2[model] = {}\n",
    "    scenario_paths = glob.glob(f'../data/transient_forcing_estimates/{model}/*')\n",
    "    for scenario_path in scenario_paths:\n",
    "        scenario = scenario_path.split('/')[-1]\n",
    "        if scenario in scenarios:\n",
    "            model_run_paths = glob.glob(f'../data/transient_forcing_estimates/{model}/{scenario}/*')\n",
    "            n_runs = len(model_run_paths)\n",
    "            for i_run, model_run_path in enumerate(model_run_paths):\n",
    "                this_erf = pd.read_csv(model_run_path)['ERF'].values\n",
    "                if i_run==0:\n",
    "                    erf = np.zeros_like(this_erf)\n",
    "                truncate_at = min(len(this_erf), len(erf))\n",
    "                erf = erf[:truncate_at] + this_erf[:truncate_at]\n",
    "            erf_all[model][scenario] = erf / n_runs\n",
    "            erf_nonco2[model][scenario] = erf_all[model][scenario] - erf_co2[model][scenario][:truncate_at]"
   ]
  },
  {
   "cell_type": "code",
   "execution_count": null,
   "id": "8",
   "metadata": {},
   "outputs": [],
   "source": [
    "colors = {\n",
    "    'ssp119': '#00a9cf',\n",
    "    'ssp126': '#003466',\n",
    "    'ssp245': '#f69320',\n",
    "    'ssp370': '#df0000',\n",
    "    'ssp585': '#980002'\n",
    "}"
   ]
  },
  {
   "cell_type": "code",
   "execution_count": null,
   "id": "9",
   "metadata": {},
   "outputs": [],
   "source": [
    "fig, ax = pl.subplots(5, 9, figsize=(16, 9))\n",
    "i_model = 0\n",
    "for model in erf_nonco2:\n",
    "    plot_this = False\n",
    "    for scenario in scenarios:\n",
    "        if scenario in erf_nonco2[model]:\n",
    "            plot_this = True\n",
    "    if plot_this:\n",
    "        ax_i = i_model//9\n",
    "        ax_j = i_model%9\n",
    "        for scenario in scenarios:\n",
    "            if scenario in erf_nonco2[model]:\n",
    "                ax[ax_i,ax_j].plot(erf_nonco2[model][scenario], color=colors[scenario])\n",
    "        ax[ax_i,ax_j].set_title(model, size=9)\n",
    "        i_model = i_model + 1\n",
    "fig.tight_layout()\n",
    "os.makedirs('../plots/')\n",
    "pl.savefig('../plots/non_co2_erf.png')"
   ]
  },
  {
   "cell_type": "code",
   "execution_count": null,
   "id": "10",
   "metadata": {},
   "outputs": [],
   "source": [
    "os.makedirs('../output/non-co2-erf/', exist_ok=True)"
   ]
  },
  {
   "cell_type": "code",
   "execution_count": null,
   "id": "11",
   "metadata": {},
   "outputs": [],
   "source": [
    "for model in models:\n",
    "    if len(erf_nonco2[model]) > 0:\n",
    "        df_out = pd.DataFrame(erf_nonco2[model])\n",
    "        df_out.to_csv(f'../output/non-co2-erf/{model}.csv')"
   ]
  },
  {
   "cell_type": "code",
   "execution_count": null,
   "id": "12",
   "metadata": {},
   "outputs": [],
   "source": [
    "len(erf_nonco2[model])"
   ]
  },
  {
   "cell_type": "code",
   "execution_count": null,
   "id": "13",
   "metadata": {},
   "outputs": [],
   "source": []
  }
 ],
 "metadata": {
  "kernelspec": {
   "display_name": ".conda-cmip6-nonco2-forcing Python (Conda)",
   "language": "python",
   "name": "conda-env-.conda-cmip6-nonco2-forcing-py"
  },
  "language_info": {
   "codemirror_mode": {
    "name": "ipython",
    "version": 3
   },
   "file_extension": ".py",
   "mimetype": "text/x-python",
   "name": "python",
   "nbconvert_exporter": "python",
   "pygments_lexer": "ipython3",
   "version": "3.12.4"
  }
 },
 "nbformat": 4,
 "nbformat_minor": 5
}
