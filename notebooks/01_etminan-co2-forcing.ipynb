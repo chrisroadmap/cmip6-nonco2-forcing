{
 "cells": [
  {
   "cell_type": "markdown",
   "id": "0",
   "metadata": {},
   "source": [
    "# Calculate CO2 forcing in each model"
   ]
  },
  {
   "cell_type": "code",
   "execution_count": null,
   "id": "1",
   "metadata": {},
   "outputs": [],
   "source": [
    "import os\n",
    "import glob\n",
    "import matplotlib.pyplot as pl\n",
    "import numpy as np\n",
    "import pandas as pd\n",
    "\n",
    "from scipy.stats import linregress\n",
    "from scipy.optimize import curve_fit"
   ]
  },
  {
   "cell_type": "markdown",
   "id": "2",
   "metadata": {},
   "source": [
    "## CO2 ERF as a function of concentration\n",
    "\n",
    "- We want to determine what the CO2 ERF is for an arbritrary CO2 concentration\n",
    "- could use the 1pctCO2 run to plot ERF as a function of concentration which opens up to more models\n",
    "- in fact let's do that, and fit Etminan parameters to each"
   ]
  },
  {
   "cell_type": "code",
   "execution_count": null,
   "id": "3",
   "metadata": {},
   "outputs": [],
   "source": [
    "co2_conc_1pct = 1.01 ** np.arange(181) * 284.316999854786   # Meinshausen uses exactly this def, see supplementary XLS files to Meinshausen et al. 2017"
   ]
  },
  {
   "cell_type": "code",
   "execution_count": null,
   "id": "4",
   "metadata": {},
   "outputs": [],
   "source": [
    "x0=284.316999854786\n",
    "\n",
    "def myhre(x, d):\n",
    "    return d * np.log(x/x0)\n",
    "    \n",
    "\n",
    "def etminan(x, a, b, d):\n",
    "    return (a * (x - x0)**2 + b * (x - x0) + d) * np.log(x / x0)\n",
    "\n",
    "\n",
    "def meinshausen(x, a, b, d):\n",
    "    c_alpha_max = x0 - b/(2*a)\n",
    "    alpha_prime = a * (x - x0)**2 + b * (x - x0) + d\n",
    "    alpha_prime[x>c_alpha_max] = d - b**2/(4*a)\n",
    "    alpha_prime[x<x0] = d   # should not occur in this calibration\n",
    "    return alpha_prime * np.log(x / x0)"
   ]
  },
  {
   "cell_type": "code",
   "execution_count": null,
   "id": "5",
   "metadata": {},
   "outputs": [],
   "source": [
    "co2_1pct_erf = {}\n",
    "regress = {}\n",
    "myhre_fit = {}\n",
    "etminan_fit = {}\n",
    "meinshausen_fit = {}\n",
    "model_paths = glob.glob('../data/transient_forcing_estimates/*/')\n",
    "for model_path in model_paths:\n",
    "    model = model_path.split('/')[-2]\n",
    "    model_run_paths = glob.glob(model_path + '1pctCO2/*.csv')\n",
    "    n_runs = len(model_run_paths)\n",
    "    for i_run, model_run_path in enumerate(model_run_paths):\n",
    "        this_erf = pd.read_csv(model_run_path)['ERF'].values\n",
    "        if i_run==0:\n",
    "            erf = np.zeros_like(this_erf)\n",
    "        truncate_at = min(len(this_erf), len(erf))\n",
    "        erf = erf[:truncate_at] + this_erf[:truncate_at]\n",
    "    co2_1pct_erf[model] = erf / n_runs\n",
    "    regress[model] = linregress(np.log(co2_conc_1pct[:len(co2_1pct_erf[model])]), co2_1pct_erf[model])\n",
    "    myhre_fit[model] = curve_fit(\n",
    "        myhre,\n",
    "        co2_conc_1pct[:len(co2_1pct_erf[model])], \n",
    "        co2_1pct_erf[model],\n",
    "        p0 = [5.35],\n",
    "    )\n",
    "    etminan_fit[model] = curve_fit(\n",
    "        etminan, \n",
    "        co2_conc_1pct[:len(co2_1pct_erf[model])], \n",
    "        co2_1pct_erf[model], \n",
    "        p0=[-2.4e-7, 7.2e-4, 5.43],\n",
    "#        bounds=((-np.inf, 0, -np.inf), (0, np.inf, np.inf))\n",
    "    )\n",
    "    meinshausen_fit[model] = curve_fit(\n",
    "        meinshausen, \n",
    "        co2_conc_1pct[:len(co2_1pct_erf[model])], \n",
    "        co2_1pct_erf[model], \n",
    "        p0=[-2.4e-7, 7.2e-4, 5.43],\n",
    "        bounds = ((-np.inf, 0, 0), (0, np.inf, np.inf)),\n",
    "        max_nfev=10000\n",
    "    )\n",
    "    #print(regress[model].slope*log_conc_co2_1pct[0] + regress[model].intercept)"
   ]
  },
  {
   "cell_type": "code",
   "execution_count": null,
   "id": "6",
   "metadata": {},
   "outputs": [],
   "source": [
    "meinshausen_fit"
   ]
  },
  {
   "cell_type": "markdown",
   "id": "7",
   "metadata": {},
   "source": [
    "## Check linearity of 1pctCO2 forcing in each model"
   ]
  },
  {
   "cell_type": "code",
   "execution_count": null,
   "id": "8",
   "metadata": {},
   "outputs": [],
   "source": [
    "fig, ax = pl.subplots(6, 9, figsize=(16, 9))\n",
    "for i_model, model in enumerate(co2_1pct_erf):\n",
    "    ax_i = i_model//9\n",
    "    ax_j = i_model%9\n",
    "    ax[ax_i,ax_j].scatter(np.log(co2_conc_1pct[:len(co2_1pct_erf[model])]), co2_1pct_erf[model])\n",
    "    ax[ax_i,ax_j].plot(\n",
    "        np.log(co2_conc_1pct[:len(co2_1pct_erf[model])]), \n",
    "        np.log(co2_conc_1pct[:len(co2_1pct_erf[model])])*regress[model].slope + regress[model].intercept,\n",
    "        color='k'\n",
    "    )"
   ]
  },
  {
   "cell_type": "markdown",
   "id": "9",
   "metadata": {},
   "source": [
    "## Myhre relationships in each model"
   ]
  },
  {
   "cell_type": "code",
   "execution_count": null,
   "id": "10",
   "metadata": {},
   "outputs": [],
   "source": [
    "fig, ax = pl.subplots(6, 9, figsize=(16, 9))\n",
    "for i_model, model in enumerate(co2_1pct_erf):\n",
    "    ax_i = i_model//9\n",
    "    ax_j = i_model%9\n",
    "    ax[ax_i,ax_j].scatter(co2_conc_1pct[:len(co2_1pct_erf[model])], co2_1pct_erf[model])\n",
    "    ax[ax_i,ax_j].plot(\n",
    "        co2_conc_1pct[:len(co2_1pct_erf[model])],\n",
    "        myhre(co2_conc_1pct[:len(co2_1pct_erf[model])], myhre_fit[model][0][0]),\n",
    "        color='k'\n",
    "    )\n",
    "    ax[ax_i,ax_j].set_title(model, fontsize=9)\n",
    "fig.tight_layout()"
   ]
  },
  {
   "cell_type": "markdown",
   "id": "11",
   "metadata": {},
   "source": [
    "## Etminan relationships in each model"
   ]
  },
  {
   "cell_type": "code",
   "execution_count": null,
   "id": "12",
   "metadata": {},
   "outputs": [],
   "source": [
    "fig, ax = pl.subplots(6, 9, figsize=(16, 9))\n",
    "for i_model, model in enumerate(co2_1pct_erf):\n",
    "    ax_i = i_model//9\n",
    "    ax_j = i_model%9\n",
    "    ax[ax_i,ax_j].scatter(co2_conc_1pct[:len(co2_1pct_erf[model])], co2_1pct_erf[model])\n",
    "    ax[ax_i,ax_j].plot(\n",
    "        co2_conc_1pct[:len(co2_1pct_erf[model])],\n",
    "        etminan(co2_conc_1pct[:len(co2_1pct_erf[model])], etminan_fit[model][0][0], etminan_fit[model][0][1], etminan_fit[model][0][2]),\n",
    "        color='k'\n",
    "    )\n",
    "    ax[ax_i,ax_j].set_title(model, fontsize=9)\n",
    "fig.tight_layout()"
   ]
  },
  {
   "cell_type": "markdown",
   "id": "13",
   "metadata": {},
   "source": [
    "## Meinshausen relationships"
   ]
  },
  {
   "cell_type": "code",
   "execution_count": null,
   "id": "14",
   "metadata": {},
   "outputs": [],
   "source": [
    "fig, ax = pl.subplots(6, 9, figsize=(16, 9))\n",
    "for i_model, model in enumerate(co2_1pct_erf):\n",
    "    ax_i = i_model//9\n",
    "    ax_j = i_model%9\n",
    "    ax[ax_i,ax_j].scatter(co2_conc_1pct[:len(co2_1pct_erf[model])], co2_1pct_erf[model])\n",
    "    ax[ax_i,ax_j].plot(\n",
    "        co2_conc_1pct[:len(co2_1pct_erf[model])],\n",
    "        meinshausen(co2_conc_1pct[:len(co2_1pct_erf[model])], meinshausen_fit[model][0][0], meinshausen_fit[model][0][1], meinshausen_fit[model][0][2]),\n",
    "        color='k'\n",
    "    )\n",
    "    ax[ax_i,ax_j].set_title(model, fontsize=9)\n",
    "fig.tight_layout()"
   ]
  },
  {
   "cell_type": "code",
   "execution_count": null,
   "id": "15",
   "metadata": {},
   "outputs": [],
   "source": [
    "myhre_fit"
   ]
  },
  {
   "cell_type": "code",
   "execution_count": null,
   "id": "16",
   "metadata": {},
   "outputs": [],
   "source": [
    "rows = []\n",
    "for model in co2_1pct_erf:\n",
    "    rows.append([model, myhre_fit[model][0][0]])\n",
    "df_out = pd.DataFrame(rows, columns=['model', 'd1'])\n",
    "df_out.set_index('model')\n",
    "\n",
    "os.makedirs('../output', exist_ok=True)\n",
    "df_out.to_csv('../output/myhre_forcing_params.csv', index=False)"
   ]
  },
  {
   "cell_type": "code",
   "execution_count": null,
   "id": "17",
   "metadata": {},
   "outputs": [],
   "source": [
    "rows = []\n",
    "for model in co2_1pct_erf:\n",
    "    rows.append([model, etminan_fit[model][0][0], etminan_fit[model][0][1], etminan_fit[model][0][2]])\n",
    "df_out = pd.DataFrame(rows, columns=['model', 'a1', 'b1', 'd1'])\n",
    "df_out.set_index('model')\n",
    "\n",
    "os.makedirs('../output', exist_ok=True)\n",
    "df_out.to_csv('../output/etminan_forcing_params.csv', index=False)"
   ]
  },
  {
   "cell_type": "code",
   "execution_count": null,
   "id": "18",
   "metadata": {},
   "outputs": [],
   "source": [
    "rows = []\n",
    "for model in co2_1pct_erf:\n",
    "    rows.append([model, meinshausen_fit[model][0][0], meinshausen_fit[model][0][1], meinshausen_fit[model][0][2]])\n",
    "df_out = pd.DataFrame(rows, columns=['model', 'a1', 'b1', 'd1'])\n",
    "df_out.set_index('model')\n",
    "\n",
    "os.makedirs('../output', exist_ok=True)\n",
    "df_out.to_csv('../output/meinshausen_forcing_params.csv', index=False)"
   ]
  },
  {
   "cell_type": "code",
   "execution_count": null,
   "id": "19",
   "metadata": {},
   "outputs": [],
   "source": [
    "c0 = 284.316999854786"
   ]
  },
  {
   "cell_type": "code",
   "execution_count": null,
   "id": "20",
   "metadata": {},
   "outputs": [],
   "source": [
    "for model in co2_1pct_erf:\n",
    "    print(model, c0 - meinshausen_fit[model][0][1] / (2*meinshausen_fit[model][0][0]))"
   ]
  },
  {
   "cell_type": "code",
   "execution_count": null,
   "id": "21",
   "metadata": {},
   "outputs": [],
   "source": []
  }
 ],
 "metadata": {
  "kernelspec": {
   "display_name": "Python 3 (ipykernel)",
   "language": "python",
   "name": "python3"
  },
  "language_info": {
   "codemirror_mode": {
    "name": "ipython",
    "version": 3
   },
   "file_extension": ".py",
   "mimetype": "text/x-python",
   "name": "python",
   "nbconvert_exporter": "python",
   "pygments_lexer": "ipython3",
   "version": "3.12.5"
  }
 },
 "nbformat": 4,
 "nbformat_minor": 5
}
