{
 "cells": [
  {
   "cell_type": "markdown",
   "id": "0",
   "metadata": {},
   "source": [
    "# Calculate transient non-CO2 forcing in each model/scenario"
   ]
  },
  {
   "cell_type": "code",
   "execution_count": null,
   "id": "1",
   "metadata": {},
   "outputs": [],
   "source": [
    "import os\n",
    "import glob\n",
    "import matplotlib.pyplot as pl\n",
    "import numpy as np\n",
    "import pandas as pd"
   ]
  },
  {
   "cell_type": "code",
   "execution_count": null,
   "id": "2",
   "metadata": {},
   "outputs": [],
   "source": [
    "def etminan(x, x0, a, b, d):\n",
    "    return (a * (x - x0)**2 + b * (x - x0) + d) * np.log(x / x0)"
   ]
  },
  {
   "cell_type": "markdown",
   "id": "3",
   "metadata": {},
   "source": [
    "## CO2 ERF as a function of concentration in each model/scenario"
   ]
  },
  {
   "cell_type": "code",
   "execution_count": null,
   "id": "4",
   "metadata": {},
   "outputs": [],
   "source": [
    "# load up Etminan parameters and CO2 concentration\n",
    "df_etminan = pd.read_csv('../output/etminan_forcing_params.csv', index_col=0)\n",
    "df_co2_conc_ssp = pd.read_csv('../data/ssp_co2_concentration.csv', index_col=0)"
   ]
  },
  {
   "cell_type": "code",
   "execution_count": null,
   "id": "5",
   "metadata": {},
   "outputs": [],
   "source": [
    "models = list(df_etminan.index)"
   ]
  },
  {
   "cell_type": "code",
   "execution_count": null,
   "id": "6",
   "metadata": {},
   "outputs": [],
   "source": [
    "co2_erf = {}\n",
    "scenarios = df_co2_conc_ssp.columns\n",
    "for model, params in df_etminan.iterrows():\n",
    "    co2_erf[model] = {}\n",
    "    # C_alpha_max in Meinshausen, and the log term to use\n",
    "    print(df_co2_conc_ssp.loc[1850,scenario] - params['b1'] / (2 * params['a1']), params['d1'] - params['b1']**2/(4*params['a1']))\n",
    "    for scenario in scenarios:\n",
    "        co2_erf[model][scenario] = etminan(df_co2_conc_ssp[scenario], df_co2_conc_ssp.loc[1850,scenario], params['a1'], params['b1'], params['d1'])"
   ]
  },
  {
   "cell_type": "code",
   "execution_count": null,
   "id": "7",
   "metadata": {},
   "outputs": [],
   "source": [
    "for model in models:\n",
    "    expt_paths = glob.glob(f'../data/transient_forcing_estimates/{model}/*')\n",
    "    for expt_path in expt_paths:\n",
    "        print(expt_path.split('/')[-1])"
   ]
  },
  {
   "cell_type": "code",
   "execution_count": null,
   "id": "8",
   "metadata": {},
   "outputs": [],
   "source": []
  }
 ],
 "metadata": {
  "kernelspec": {
   "display_name": "Python 3 (ipykernel)",
   "language": "python",
   "name": "python3"
  },
  "language_info": {
   "codemirror_mode": {
    "name": "ipython",
    "version": 3
   },
   "file_extension": ".py",
   "mimetype": "text/x-python",
   "name": "python",
   "nbconvert_exporter": "python",
   "pygments_lexer": "ipython3",
   "version": "3.12.4"
  }
 },
 "nbformat": 4,
 "nbformat_minor": 5
}
